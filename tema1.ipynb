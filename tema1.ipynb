{
 "cells": [
  {
   "cell_type": "code",
   "execution_count": 1,
   "metadata": {
    "scrolled": true
   },
   "outputs": [
    {
     "name": "stdout",
     "output_type": "stream",
     "text": [
      "[[10.0, 15.0, 20.0, 30.0], [20.0, 25.0, 50.0, 80.0], [50.0, 54.0, 55.0, 70.0], [30.0, 35.0, 60.0, 13.0], [40.0, 45.0, 70.0, 30.0], [60.0, 66.0, 12.0, 1.0]]\n",
      "75.0\n",
      "175.0\n",
      "229.0\n",
      "138.0\n",
      "185.0\n",
      "139.0\n"
     ]
    },
    {
     "data": {
      "text/plain": [
       "<function TextIOWrapper.close()>"
      ]
     },
     "execution_count": 1,
     "metadata": {},
     "output_type": "execute_result"
    }
   ],
   "source": [
    "#1.Sum the numbers on each line.\n",
    "f=open('numbers.txt','r')\n",
    "sum_1=0\n",
    "sum_0=0\n",
    "def process_line(line):\n",
    "    return list(map(float,    str.split(line[:-1],',')  ))\n",
    "nums= [process_line(line) for line in f]\n",
    "print(nums)\n",
    "\n",
    "for i in range(0,6):\n",
    "    sumi=sum(nums[i])\n",
    "    print(sumi)\n",
    "\n",
    "f.close"
   ]
  },
  {
   "cell_type": "code",
   "execution_count": 2,
   "metadata": {},
   "outputs": [
    {
     "name": "stdout",
     "output_type": "stream",
     "text": [
      "[[10.0, 15.0, 20.0, 30.0], [20.0, 25.0, 50.0, 80.0], [50.0, 54.0, 55.0, 70.0], [30.0, 35.0, 60.0, 13.0], [40.0, 45.0, 70.0, 30.0], [60.0, 66.0, 12.0, 1.0]]\n",
      "941.0\n"
     ]
    },
    {
     "data": {
      "text/plain": [
       "<function TextIOWrapper.close()>"
      ]
     },
     "execution_count": 2,
     "metadata": {},
     "output_type": "execute_result"
    }
   ],
   "source": [
    "#2.Sum all the numbers.\n",
    "f=open('numbers.txt','r')\n",
    "sum_1=0\n",
    "sum_0=0\n",
    "suma=0\n",
    "def process_line(line):\n",
    "    return list(map(float,    str.split(line[:-1],',')  ))\n",
    "nums= [process_line(line) for line in f]\n",
    "print(nums)\n",
    "\n",
    "for i in range(0,6):\n",
    "    sumi=sum(nums[i])\n",
    "    suma=suma+sumi\n",
    "    \n",
    "print(suma)\n",
    "\n",
    "f.close"
   ]
  },
  {
   "cell_type": "code",
   "execution_count": 20,
   "metadata": {},
   "outputs": [
    {
     "name": "stdout",
     "output_type": "stream",
     "text": [
      "[[10.0, 15.0, 20.0, 30.0], [20.0, 25.0, 50.0, 80.0], [50.0, 54.0, 55.0, 70.0], [30.0, 35.0, 60.0, 13.0], [40.0, 45.0, 70.0, 30.0], [60.0, 66.0, 12.0, 1.0]]\n",
      "[10.0, 15.0, 20.0, 30.0, 20.0, 25.0, 50.0, 80.0, 50.0, 54.0, 55.0, 70.0, 30.0, 35.0, 60.0, 13.0, 40.0, 45.0, 70.0, 30.0, 60.0, 66.0, 12.0, 1.0]\n"
     ]
    },
    {
     "data": {
      "text/plain": [
       "<function TextIOWrapper.close()>"
      ]
     },
     "execution_count": 20,
     "metadata": {},
     "output_type": "execute_result"
    }
   ],
   "source": [
    "#3.Concatenate them all into a single list.\n",
    "f=open('numbers.txt','r')\n",
    "def process_line(line):\n",
    "    return list(map(float,    str.split(line[:-1],',')  ))\n",
    "nums= [process_line(line) for line in f]\n",
    "print(nums)\n",
    "\n",
    "n=[*nums[0],*nums[1],*nums[2],*nums[3],*nums[4],*nums[5]]  \n",
    "print(n)\n",
    "\n",
    "f.close"
   ]
  },
  {
   "cell_type": "code",
   "execution_count": 21,
   "metadata": {},
   "outputs": [
    {
     "name": "stdout",
     "output_type": "stream",
     "text": [
      "[[10.0, 15.0, 20.0, 30.0], [20.0, 25.0, 50.0, 80.0], [50.0, 54.0, 55.0, 70.0], [30.0, 35.0, 60.0, 13.0], [40.0, 45.0, 70.0, 30.0], [60.0, 66.0, 12.0, 1.0]]\n",
      "[10.0, 15.0, 20.0, 30.0, 20.0, 25.0, 50.0, 80.0, 50.0, 54.0, 55.0, 70.0, 30.0, 35.0, 60.0, 13.0, 40.0, 45.0, 70.0, 30.0, 60.0, 66.0, 12.0, 1.0]\n",
      "13\n"
     ]
    },
    {
     "data": {
      "text/plain": [
       "<function TextIOWrapper.close()>"
      ]
     },
     "execution_count": 21,
     "metadata": {},
     "output_type": "execute_result"
    }
   ],
   "source": [
    "#4.Count how many of them are larger than 30.1.\n",
    "f=open('numbers.txt','r')\n",
    "def process_line(line):\n",
    "    return list(map(float,    str.split(line[:-1],',')  ))\n",
    "nums= [process_line(line) for line in f]\n",
    "print(nums)\n",
    "\n",
    "n=[*nums[0],*nums[1],*nums[2],*nums[3],*nums[4],*nums[5]]  \n",
    "print(n)\n",
    "\n",
    "count=0\n",
    "for i in n:\n",
    "    if i>30.1:\n",
    "        count=count+1\n",
    "print(count)\n",
    "\n",
    "f.close"
   ]
  },
  {
   "cell_type": "code",
   "execution_count": 22,
   "metadata": {},
   "outputs": [
    {
     "name": "stdout",
     "output_type": "stream",
     "text": [
      "[[10.0, 15.0, 20.0, 30.0], [20.0, 25.0, 50.0, 80.0], [50.0, 54.0, 55.0, 70.0], [30.0, 35.0, 60.0, 13.0], [40.0, 45.0, 70.0, 30.0], [60.0, 66.0, 12.0, 1.0]]\n",
      "[10.0, 15.0, 20.0, 30.0, 20.0, 25.0, 50.0, 80.0, 50.0, 54.0, 55.0, 70.0, 30.0, 35.0, 60.0, 13.0, 40.0, 45.0, 70.0, 30.0, 60.0, 66.0, 12.0, 1.0]\n",
      "{10.0: 1, 15.0: 4, 20.0: 5, 30.0: 8, 25.0: 7, 50.0: 14, 80.0: 23, 54.0: 16, 55.0: 17, 70.0: 21, 35.0: 11, 60.0: 18, 13.0: 3, 40.0: 12, 45.0: 13, 66.0: 20, 12.0: 2, 1.0: 0}\n"
     ]
    },
    {
     "data": {
      "text/plain": [
       "<function TextIOWrapper.close()>"
      ]
     },
     "execution_count": 22,
     "metadata": {},
     "output_type": "execute_result"
    }
   ],
   "source": [
    "#5.For each natural number threshold from 1 to 100 show how many numbers are smaller than it.\n",
    "f=open('numbers.txt','r')\n",
    "def process_line(line):\n",
    "    return list(map(float,    str.split(line[:-1],',')  ))\n",
    "nums= [process_line(line) for line in f]\n",
    "print(nums)\n",
    "\n",
    "n=[*nums[0],*nums[1],*nums[2],*nums[3],*nums[4],*nums[5]]  \n",
    "print(n)\n",
    "\n",
    "numere=dict()\n",
    "for i in n:\n",
    "    count=0\n",
    "    for j in n:\n",
    "        if j<i:\n",
    "            count=count+1\n",
    "    numere[i]=count\n",
    "    \n",
    "        \n",
    "print(numere)\n",
    "\n",
    "f.close"
   ]
  },
  {
   "cell_type": "code",
   "execution_count": null,
   "metadata": {},
   "outputs": [],
   "source": []
  }
 ],
 "metadata": {
  "kernelspec": {
   "display_name": "Python 3",
   "language": "python",
   "name": "python3"
  },
  "language_info": {
   "codemirror_mode": {
    "name": "ipython",
    "version": 3
   },
   "file_extension": ".py",
   "mimetype": "text/x-python",
   "name": "python",
   "nbconvert_exporter": "python",
   "pygments_lexer": "ipython3",
   "version": "3.7.4"
  }
 },
 "nbformat": 4,
 "nbformat_minor": 2
}
